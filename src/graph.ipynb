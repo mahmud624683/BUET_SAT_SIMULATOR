{
 "cells": [
  {
   "cell_type": "code",
   "execution_count": null,
   "metadata": {},
   "outputs": [],
   "source": [
    "#Effect of LIBAR block percentage\n",
    "import matplotlib.pyplot as plt\n",
    "\n",
    "# Data for lines\n",
    "x = [2, 5, 10, 15, 25, 50, 75, 100]\n",
    "k5 = [73.33333333, 80, 72, 71.11111111, 60.46511628, 23.4375, 22.95081967, 14.76510067]\n",
    "k10 = [64.70588235, 80.64516129, 77.77777778, 66.66666667, 60.71428571, 21.62162162, 23.25581395, 4.04040404]\n",
    "k15 = [63.63636364, 58.18181818, 34.95145631, 21.78217822, 31.48148148, 12.17948718, 8.333333333, 0]\n",
    "k20 = [76.92307692, 84.84848485, 63.63636364, 50, 0, 7.692307692, 4.761904762, 4.854368932]\n",
    "# Create a new figure\n",
    "plt.figure()\n",
    "\n",
    "# Plot multiple lines\n",
    "plt.plot(x, k5, label='5 bit key', color='blue', marker='o')\n",
    "plt.plot(x, k10, label='10 bit key', color='violet', marker='x')\n",
    "plt.plot(x, k15, label='15 bit key', color='red', marker='s')\n",
    "plt.plot(x, k20, label='20 bit key', color='green', marker='+')\n",
    "\n",
    "# Add labels and title\n",
    "plt.xlabel('Percentage of LIBAR block')\n",
    "plt.ylabel('Percentage of Successful key retrival')\n",
    "plt.title('Effect of LIBAR block percentage')\n",
    "\n",
    "# Display legend\n",
    "plt.legend()\n",
    "\n",
    "# Show the plot\n",
    "plt.show()\n"
   ]
  },
  {
   "cell_type": "code",
   "execution_count": null,
   "metadata": {},
   "outputs": [],
   "source": [
    "#pin overlap comparison\n",
    "import matplotlib.pyplot as plt\n",
    "import numpy as np\n",
    "\n",
    "# Data for bar chart\n",
    "ckt = ['C342', 'C1355']\n",
    "ol0 = [22.76, 29.76]  # Set 1\n",
    "ol1 = [33.94, 31.97]  # Set 2\n",
    "ol2 = [44.85, 30.34]  # Set 3\n",
    "\n",
    "# Create positions for the bars\n",
    "bar_width = 0.25\n",
    "x = np.arange(len(ckt))\n",
    "\n",
    "# Create the figure and bar chart\n",
    "plt.figure()\n",
    "\n",
    "# Plot bars for each set\n",
    "plt.bar(x - bar_width, ol0, bar_width, label='no overlap', color='#ff7f0e')\n",
    "plt.bar(x, ol1, bar_width, label='one pin overlap', color='indigo')\n",
    "plt.bar(x + bar_width, ol2, bar_width, label='two pin overlap', color='#bcbd22')\n",
    "\n",
    "# Add labels and title\n",
    "plt.xlabel('Circuit')\n",
    "plt.ylabel('Percentage of Successful key retrival')\n",
    "plt.title('Grouped Bar Chart Example')\n",
    "\n",
    "# Add custom ticks for the x-axis\n",
    "plt.xticks(x, ckt)\n",
    "\n",
    "# Display legend\n",
    "plt.legend()\n",
    "\n",
    "# Show the plot\n",
    "plt.show()\n"
   ]
  }
 ],
 "metadata": {
  "kernelspec": {
   "display_name": "Python 3",
   "language": "python",
   "name": "python3"
  },
  "language_info": {
   "codemirror_mode": {
    "name": "ipython",
    "version": 3
   },
   "file_extension": ".py",
   "mimetype": "text/x-python",
   "name": "python",
   "nbconvert_exporter": "python",
   "pygments_lexer": "ipython3",
   "version": "3.9.6"
  }
 },
 "nbformat": 4,
 "nbformat_minor": 2
}
