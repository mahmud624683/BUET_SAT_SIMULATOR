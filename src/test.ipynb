{
 "cells": [
  {
   "cell_type": "code",
   "execution_count": 3,
   "metadata": {},
   "outputs": [],
   "source": [
    "import random\n",
    "\n",
    "def int2bin(value, size):\n",
    "    string_val = list(\"0\" * size)\n",
    "    temp_value = list(reversed(list(\"{0:b}\".format(value))))\n",
    "    for i in range(0, len(temp_value)):\n",
    "        string_val[i] = temp_value[i]\n",
    "    string_val = \"\".join(list(reversed(string_val)))\n",
    "    return string_val\n",
    "\n",
    "\n",
    "def get_random_boolean_list(length):\n",
    "    return [random.choice([True, False]) for _ in range(length)]\n",
    "\n",
    "str2bool = {\"0\":False,\"1\":True}"
   ]
  },
  {
   "cell_type": "code",
   "execution_count": null,
   "metadata": {},
   "outputs": [],
   "source": [
    "for i in range(16):\n",
    "    print(\"___________________________\")\n",
    "    key = int2bin(i,4)\n",
    "    for j in range(4):\n",
    "        inp = int2bin(j,2)\n",
    "        y=((str2bool[key[0]]^str2bool[inp[0]])&(str2bool[key[1]]^str2bool[inp[1]])) & \\\n",
    "        (not((str2bool[key[2]]^str2bool[inp[0]])&(str2bool[key[3]]^str2bool[inp[1]])))\n",
    "        print(key, inp, y)"
   ]
  },
  {
   "cell_type": "code",
   "execution_count": 3,
   "metadata": {},
   "outputs": [
    {
     "name": "stdout",
     "output_type": "stream",
     "text": [
      "[1, 4, 7, 10]\n"
     ]
    }
   ],
   "source": [
    "# Original list\n",
    "original_list = [1, 2, 3, 4, 5, 6, 7, 8, 9, 10, 11, 12]\n",
    "\n",
    "# New list with every 3rd element\n",
    "new_list = original_list[0::3]\n",
    "new_list = [item in list_a if item not in list_b]\n",
    "print(new_list)"
   ]
  }
 ],
 "metadata": {
  "kernelspec": {
   "display_name": "Python 3",
   "language": "python",
   "name": "python3"
  },
  "language_info": {
   "codemirror_mode": {
    "name": "ipython",
    "version": 3
   },
   "file_extension": ".py",
   "mimetype": "text/x-python",
   "name": "python",
   "nbconvert_exporter": "python",
   "pygments_lexer": "ipython3",
   "version": "3.9.6"
  }
 },
 "nbformat": 4,
 "nbformat_minor": 2
}
