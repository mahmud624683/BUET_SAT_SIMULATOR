{
 "cells": [
  {
   "cell_type": "code",
   "execution_count": 1,
   "metadata": {},
   "outputs": [],
   "source": [
    "import algo_methods"
   ]
  },
  {
   "cell_type": "code",
   "execution_count": 2,
   "metadata": {},
   "outputs": [],
   "source": [
    "org_ckt_ls = \"/Users/mahmudulhasan/Downloads/BUET_SAT_SIMULATOR/c432/c432.bench\"\n",
    "key_str = \"10011000111110101001100011111010\""
   ]
  },
  {
   "cell_type": "code",
   "execution_count": 3,
   "metadata": {},
   "outputs": [
    {
     "name": "stdout",
     "output_type": "stream",
     "text": [
      "SARLock bench file created\n"
     ]
    }
   ],
   "source": [
    "obs_ckt_ls = \"/Users/mahmudulhasan/Downloads/BUET_SAT_SIMULATOR/c432/c432_sarlock_32k.bench\"\n",
    "algo_methods.sarlock(org_ckt_ls,obs_ckt_ls,key_str)"
   ]
  },
  {
   "cell_type": "code",
   "execution_count": 18,
   "metadata": {},
   "outputs": [
    {
     "name": "stdout",
     "output_type": "stream",
     "text": [
      "RLL bench file created\n"
     ]
    }
   ],
   "source": [
    "obs_ckt_ls = \"/Users/mahmudulhasan/Downloads/BUET_SAT_SIMULATOR/c6288/c6288_rll_32k.bench\"\n",
    "algo_methods.RLL(org_ckt_ls,obs_ckt_ls,key_str)"
   ]
  },
  {
   "cell_type": "code",
   "execution_count": null,
   "metadata": {},
   "outputs": [],
   "source": [
    "obs_ckt_ls = \"src/c6288_antisat_32k.bench\"\n",
    "algo_methods.libar(org_ckt_ls,obs_ckt_ls,key_str,libar_percent=0.6)"
   ]
  },
  {
   "cell_type": "code",
   "execution_count": 26,
   "metadata": {},
   "outputs": [
    {
     "name": "stdout",
     "output_type": "stream",
     "text": [
      "AntiSAT bench file created\n"
     ]
    }
   ],
   "source": [
    "obs_ckt_ls = \"/Users/mahmudulhasan/Downloads/BUET_SAT_SIMULATOR/c432/c432_antisat_32k.bench\"\n",
    "algo_methods.anti_sat(org_ckt_ls,obs_ckt_ls,key_str)"
   ]
  },
  {
   "cell_type": "code",
   "execution_count": 25,
   "metadata": {},
   "outputs": [
    {
     "name": "stdout",
     "output_type": "stream",
     "text": [
      "The key bit should be equal if half splitted. but here your key: 00111110101001100011111010 is not.\n"
     ]
    }
   ],
   "source": [
    "obs_ckt_ls = \"src/c6288_antisat_32k.bench\"\n",
    "algo_methods.asob(org_ckt_ls,obs_ckt_ls,key_str,no_rll_keybit=6)"
   ]
  },
  {
   "cell_type": "code",
   "execution_count": 36,
   "metadata": {},
   "outputs": [],
   "source": [
    "obs_ckt_ls = \"/Users/mahmudulhasan/Downloads/BUET_SAT_SIMULATOR/c432/c432_libar_bolINPclk_10_unrolled.bench\""
   ]
  },
  {
   "cell_type": "code",
   "execution_count": 37,
   "metadata": {},
   "outputs": [
    {
     "name": "stdout",
     "output_type": "stream",
     "text": [
      "============================================= iteration: 0\n",
      "============================================= iteration: 1\n",
      "============================================= iteration: 2\n",
      "============================================= iteration: 3\n",
      "============================================= iteration: 4\n",
      "============================================= iteration: 5\n",
      "============================================= iteration: 6\n",
      "============================================= iteration: 7\n",
      "============================================= iteration: 8\n",
      "============================================= iteration: 9\n",
      "============================================= iteration: 10\n",
      "============================================= iteration: 11\n",
      "============================================= iteration: 12\n",
      "============================================= iteration: 13\n",
      "============================================= iteration: 14\n",
      "============================================= iteration: 15\n",
      "============================================= iteration: 16\n",
      "============================================= iteration: 17\n",
      "============================================= iteration: 18\n",
      "============================================= iteration: 19\n",
      "============================================= iteration: 20\n",
      "================ keyFind SAT call ================\n",
      "---------------- looking for key (Last SAT Call) ------------\n",
      "Didn't Found Any Satisfiable Key\n"
     ]
    }
   ],
   "source": [
    "algo_methods.sat(org_ckt_ls,obs_ckt_ls)"
   ]
  },
  {
   "cell_type": "code",
   "execution_count": 7,
   "metadata": {},
   "outputs": [
    {
     "name": "stdout",
     "output_type": "stream",
     "text": [
      "============================================= iteration: 0\n",
      "============================================= iteration: 1\n",
      "============================================= iteration: 2\n",
      "============================================= iteration: 3\n",
      "============================================= iteration: 4\n",
      "============================================= iteration: 5\n",
      "============================================= iteration: 6\n",
      "============================================= iteration: 7\n",
      "============================================= iteration: 8\n",
      "============================================= iteration: 9\n",
      "============================================= iteration: 10\n",
      "============================================= iteration: 11\n",
      "============================================= iteration: 12\n",
      "============================================= iteration: 13\n",
      "============================================= iteration: 14\n",
      "============================================= iteration: 15\n",
      "============================================= iteration: 16\n",
      "============================================= iteration: 17\n",
      "============================================= iteration: 18\n",
      "============================================= iteration: 19\n",
      "============================================= iteration: 20\n",
      "============================================= iteration: 21\n",
      "============================================= iteration: 22\n",
      "============================================= iteration: 23\n",
      "============================================= iteration: 24\n",
      "============================================= iteration: 25\n",
      "============================================= iteration: 26\n",
      "============================================= iteration: 27\n",
      "============================================= iteration: 28\n",
      "============================================= iteration: 29\n",
      "============================================= iteration: 30\n",
      "============================================= iteration: 31\n",
      "================ keyFind SAT call ================\n",
      "---------------- looking for key (Last SAT Call) ------------\n",
      "key= 11011000111110001001100011111010\n",
      "func_iteration= 31; func_exe_time= 1.4044852256774902; nonfunc_exe_time= 0\n"
     ]
    }
   ],
   "source": [
    "algo_methods.appsat(org_ckt_ls,obs_ckt_ls)"
   ]
  },
  {
   "cell_type": "code",
   "execution_count": 8,
   "metadata": {},
   "outputs": [
    {
     "name": "stdout",
     "output_type": "stream",
     "text": [
      "########## looking for DIPs (Iterative SAT Calls)  ##########\n",
      "============================================= iteration: 0\n",
      "============================================= iteration: 1\n",
      "============================================= iteration: 2\n",
      "============================================= iteration: 3\n",
      "============================================= iteration: 4\n",
      "============================================= iteration: 5\n",
      "============================================= iteration: 6\n",
      "============================================= iteration: 7\n",
      "============================================= iteration: 8\n",
      "============================================= iteration: 9\n",
      "============================================= iteration: 10\n",
      "============================================= iteration: 10\n",
      "============================================= iteration: 11\n",
      "============================================= iteration: 12\n",
      "============================================= iteration: 13\n",
      "============================================= iteration: 14\n",
      "============================================= iteration: 15\n",
      "============================================= iteration: 16\n",
      "============================================= iteration: 16\n",
      "============================================= iteration: 17\n",
      "============================================= iteration: 17\n",
      "============================================= iteration: 17\n",
      "============================================= iteration: 17\n",
      "============================================= iteration: 17\n",
      "================ keyFind SAT call ================\n",
      "---------------- looking for key (Last SAT Call) ------------\n",
      "key= 10011000111110101001100011111010\n",
      "func_iteration= 17; func_exe_time= 0.22128510475158691; nonfunc_exe_time= 0\n"
     ]
    }
   ],
   "source": [
    "algo_methods.hamming_sweep(org_ckt_ls,obs_ckt_ls,max_iter=1000)"
   ]
  }
 ],
 "metadata": {
  "kernelspec": {
   "display_name": "Python 3",
   "language": "python",
   "name": "python3"
  },
  "language_info": {
   "codemirror_mode": {
    "name": "ipython",
    "version": 3
   },
   "file_extension": ".py",
   "mimetype": "text/x-python",
   "name": "python",
   "nbconvert_exporter": "python",
   "pygments_lexer": "ipython3",
   "version": "3.9.6"
  }
 },
 "nbformat": 4,
 "nbformat_minor": 2
}
