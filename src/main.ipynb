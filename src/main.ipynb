{
 "cells": [
  {
   "cell_type": "code",
   "execution_count": 7,
   "metadata": {},
   "outputs": [],
   "source": [
    "import algo_methods"
   ]
  },
  {
   "cell_type": "code",
   "execution_count": 5,
   "metadata": {},
   "outputs": [],
   "source": [
    "org_ckt_ls = \"/home/mahmudul-hasan/Research/BUET_SAT_SIMULATOR/c432/c432.bench\"\n",
    "key_str = \"10011000111110101001100011111010\""
   ]
  },
  {
   "cell_type": "code",
   "execution_count": 3,
   "metadata": {},
   "outputs": [
    {
     "name": "stdout",
     "output_type": "stream",
     "text": [
      "SARLock bench file created\n"
     ]
    }
   ],
   "source": [
    "obs_ckt_ls = \"/Users/mahmudulhasan/Downloads/BUET_SAT_SIMULATOR/c432/c432_sarlock_32k.bench\"\n",
    "algo_methods.sarlock(org_ckt_ls,obs_ckt_ls,key_str)"
   ]
  },
  {
   "cell_type": "code",
   "execution_count": 18,
   "metadata": {},
   "outputs": [
    {
     "name": "stdout",
     "output_type": "stream",
     "text": [
      "RLL bench file created\n"
     ]
    }
   ],
   "source": [
    "obs_ckt_ls = \"/Users/mahmudulhasan/Downloads/BUET_SAT_SIMULATOR/c6288/c6288_rll_32k.bench\"\n",
    "algo_methods.RLL(org_ckt_ls,obs_ckt_ls,key_str)"
   ]
  },
  {
   "cell_type": "code",
   "execution_count": null,
   "metadata": {},
   "outputs": [],
   "source": [
    "obs_ckt_ls = \"src/c6288_antisat_32k.bench\"\n",
    "algo_methods.libar(org_ckt_ls,obs_ckt_ls,key_str,libar_percent=0.6)"
   ]
  },
  {
   "cell_type": "code",
   "execution_count": 26,
   "metadata": {},
   "outputs": [
    {
     "name": "stdout",
     "output_type": "stream",
     "text": [
      "AntiSAT bench file created\n"
     ]
    }
   ],
   "source": [
    "obs_ckt_ls = \"/Users/mahmudulhasan/Downloads/BUET_SAT_SIMULATOR/c432/c432_antisat_32k.bench\"\n",
    "algo_methods.anti_sat(org_ckt_ls,obs_ckt_ls,key_str)"
   ]
  },
  {
   "cell_type": "code",
   "execution_count": 25,
   "metadata": {},
   "outputs": [
    {
     "name": "stdout",
     "output_type": "stream",
     "text": [
      "The key bit should be equal if half splitted. but here your key: 00111110101001100011111010 is not.\n"
     ]
    }
   ],
   "source": [
    "obs_ckt_ls = \"src/c6288_antisat_32k.bench\"\n",
    "algo_methods.asob(org_ckt_ls,obs_ckt_ls,key_str,no_rll_keybit=6)"
   ]
  },
  {
   "cell_type": "code",
   "execution_count": 16,
   "metadata": {},
   "outputs": [],
   "source": [
    "org_ckt_ls = \"/home/mahmudul-hasan/Research/BUET_SAT_SIMULATOR/bench_ckt/b2.bench\"\n",
    "obs_ckt_ls = \"/home/mahmudul-hasan/Research/BUET_SAT_SIMULATOR/obfuscated/b2_rll.bench\""
   ]
  },
  {
   "cell_type": "code",
   "execution_count": 12,
   "metadata": {},
   "outputs": [],
   "source": [
    "org_ckt_ls = \"/home/mahmudul-hasan/Research/BUET_SAT_SIMULATOR/c432/c432.bench\"\n",
    "obs_ckt_ls = \"/home/mahmudul-hasan/Research/BUET_SAT_SIMULATOR/c432/c432_ttlock_32k.bench\"\n"
   ]
  },
  {
   "cell_type": "code",
   "execution_count": 17,
   "metadata": {},
   "outputs": [
    {
     "ename": "KeyboardInterrupt",
     "evalue": "",
     "output_type": "error",
     "traceback": [
      "\u001b[0;31m---------------------------------------------------------------------------\u001b[0m",
      "\u001b[0;31mKeyboardInterrupt\u001b[0m                         Traceback (most recent call last)",
      "Cell \u001b[0;32mIn[17], line 1\u001b[0m\n\u001b[0;32m----> 1\u001b[0m \u001b[43malgo_methods\u001b[49m\u001b[38;5;241;43m.\u001b[39;49m\u001b[43msat\u001b[49m\u001b[43m(\u001b[49m\u001b[43morg_ckt_ls\u001b[49m\u001b[43m,\u001b[49m\u001b[43mobs_ckt_ls\u001b[49m\u001b[43m)\u001b[49m\n",
      "File \u001b[0;32m~/Research/BUET_SAT_SIMULATOR/src/algo_methods.py:90\u001b[0m, in \u001b[0;36msat\u001b[0;34m(orig_bench_address, obf_bench_address, max_iter)\u001b[0m\n\u001b[1;32m     87\u001b[0m list_str_dip \u001b[38;5;241m=\u001b[39m []\n\u001b[1;32m     88\u001b[0m list_orgcirc \u001b[38;5;241m=\u001b[39m []\n\u001b[0;32m---> 90\u001b[0m obfpinwires, obfkeywires, obfinterwires, obfpoutwires, orgpoutwires, orgwires, str_dip, keyin1, keyin2, keyin3, keyin4, keyinc\u001b[38;5;241m=\u001b[39m\u001b[43minit_attack\u001b[49m\u001b[43m(\u001b[49m\u001b[43morig_bench_address\u001b[49m\u001b[43m,\u001b[49m\u001b[43mobf_bench_address\u001b[49m\u001b[43m)\u001b[49m\n\u001b[1;32m     93\u001b[0m \u001b[38;5;28;01mwhile\u001b[39;00m res \u001b[38;5;241m==\u001b[39m \u001b[38;5;241m1\u001b[39m:\n\u001b[1;32m     94\u001b[0m     \u001b[38;5;28;01mif\u001b[39;00m \u001b[38;5;28miter\u001b[39m\u001b[38;5;241m>\u001b[39mmax_iter:\n",
      "File \u001b[0;32m~/Research/BUET_SAT_SIMULATOR/src/algo_methods.py:50\u001b[0m, in \u001b[0;36minit_attack\u001b[0;34m(orig_bench_address, obf_bench_address)\u001b[0m\n\u001b[1;32m     49\u001b[0m \u001b[38;5;28;01mdef\u001b[39;00m \u001b[38;5;21minit_attack\u001b[39m(orig_bench_address,obf_bench_address):\n\u001b[0;32m---> 50\u001b[0m     orgwires, orgpinwires, orgkeywires, orginterwires, orgpoutwires \u001b[38;5;241m=\u001b[39m \u001b[43mlogicwire\u001b[49m\u001b[38;5;241;43m.\u001b[39;49m\u001b[43mwire_dep\u001b[49m\u001b[43m(\u001b[49m\u001b[43morig_bench_address\u001b[49m\u001b[43m)\u001b[49m\n\u001b[1;32m     51\u001b[0m     obfwires, obfpinwires, obfkeywires, obfinterwires, obfpoutwires \u001b[38;5;241m=\u001b[39m logicwire\u001b[38;5;241m.\u001b[39mwire_dep(obf_bench_address)\n\u001b[1;32m     53\u001b[0m     str_dip \u001b[38;5;241m=\u001b[39m [\u001b[38;5;28;01mNone\u001b[39;00m] \u001b[38;5;241m*\u001b[39m \u001b[38;5;28mlen\u001b[39m(obfpinwires)\n",
      "File \u001b[0;32m~/Research/BUET_SAT_SIMULATOR/src/logicwire.py:153\u001b[0m, in \u001b[0;36mwire_dep\u001b[0;34m(benchmark_address)\u001b[0m\n\u001b[1;32m    151\u001b[0m \u001b[38;5;28;01mif\u001b[39;00m wires[i]\u001b[38;5;241m.\u001b[39moperands[j]\u001b[38;5;241m.\u001b[39mlogic_level_min \u001b[38;5;241m<\u001b[39m min_level:\n\u001b[1;32m    152\u001b[0m     min_level \u001b[38;5;241m=\u001b[39m wires[i]\u001b[38;5;241m.\u001b[39moperands[j]\u001b[38;5;241m.\u001b[39mlogic_level_min\n\u001b[0;32m--> 153\u001b[0m \u001b[38;5;28;01melif\u001b[39;00m wires[i]\u001b[38;5;241m.\u001b[39moperands[j]\u001b[38;5;241m.\u001b[39mlogic_level_min \u001b[38;5;241m==\u001b[39m \u001b[38;5;241m-\u001b[39m\u001b[38;5;241m1\u001b[39m:\n\u001b[1;32m    154\u001b[0m     toposort_done \u001b[38;5;241m=\u001b[39m \u001b[38;5;241m-\u001b[39m\u001b[38;5;241m1\u001b[39m\n\u001b[1;32m    155\u001b[0m     cur_lglev \u001b[38;5;241m=\u001b[39m \u001b[38;5;241m-\u001b[39m\u001b[38;5;241m1\u001b[39m\n",
      "\u001b[0;31mKeyboardInterrupt\u001b[0m: "
     ]
    }
   ],
   "source": [
    "algo_methods.sat(org_ckt_ls,obs_ckt_ls)"
   ]
  },
  {
   "cell_type": "code",
   "execution_count": 17,
   "metadata": {},
   "outputs": [
    {
     "name": "stdout",
     "output_type": "stream",
     "text": [
      "============================================= iteration: 0\n",
      "============================================= iteration: 1\n",
      "============================================= iteration: 2\n",
      "============================================= iteration: 3\n",
      "============================================= iteration: 4\n",
      "============================================= iteration: 5\n",
      "============================================= iteration: 6\n",
      "============================================= iteration: 7\n",
      "============================================= iteration: 8\n",
      "============================================= iteration: 9\n",
      "============================================= iteration: 10\n",
      "============================================= iteration: 11\n",
      "============================================= iteration: 12\n",
      "============================================= iteration: 13\n",
      "============================================= iteration: 14\n",
      "============================================= iteration: 15\n",
      "============================================= iteration: 16\n",
      "============================================= iteration: 17\n",
      "============================================= iteration: 18\n",
      "============================================= iteration: 19\n",
      "============================================= iteration: 20\n",
      "============================================= iteration: 21\n",
      "============================================= iteration: 22\n",
      "============================================= iteration: 23\n",
      "============================================= iteration: 24\n",
      "============================================= iteration: 25\n",
      "============================================= iteration: 26\n",
      "============================================= iteration: 27\n",
      "============================================= iteration: 28\n",
      "============================================= iteration: 29\n",
      "============================================= iteration: 30\n",
      "================ keyFind SAT call ================\n",
      "---------------- looking for key (Last SAT Call) ------------\n",
      "key= 01011\n",
      "func_iteration= 30; func_exe_time= 0.057195186614990234; nonfunc_exe_time= 0\n"
     ]
    }
   ],
   "source": [
    "algo_methods.appsat(org_ckt_ls,obs_ckt_ls)"
   ]
  },
  {
   "cell_type": "code",
   "execution_count": 18,
   "metadata": {},
   "outputs": [
    {
     "name": "stdout",
     "output_type": "stream",
     "text": [
      "########## looking for DIPs (Iterative SAT Calls)  ##########\n",
      "============================================= iteration: 0\n",
      "============================================= iteration: 0\n",
      "============================================= iteration: 1\n",
      "============================================= iteration: 2\n",
      "============================================= iteration: 3\n",
      "============================================= iteration: 4\n",
      "============================================= iteration: 5\n",
      "============================================= iteration: 6\n",
      "============================================= iteration: 7\n",
      "============================================= iteration: 8\n",
      "============================================= iteration: 9\n",
      "============================================= iteration: 10\n",
      "============================================= iteration: 11\n",
      "============================================= iteration: 12\n",
      "============================================= iteration: 13\n",
      "============================================= iteration: 14\n",
      "============================================= iteration: 15\n",
      "============================================= iteration: 16\n",
      "============================================= iteration: 17\n",
      "============================================= iteration: 18\n",
      "============================================= iteration: 19\n",
      "============================================= iteration: 20\n",
      "============================================= iteration: 21\n",
      "============================================= iteration: 22\n",
      "============================================= iteration: 23\n",
      "============================================= iteration: 24\n",
      "============================================= iteration: 25\n",
      "============================================= iteration: 26\n",
      "============================================= iteration: 27\n",
      "============================================= iteration: 28\n",
      "============================================= iteration: 29\n",
      "============================================= iteration: 30\n",
      "============================================= iteration: 31\n",
      "================ keyFind SAT call ================\n",
      "---------------- looking for key (Last SAT Call) ------------\n",
      "key= 01011\n",
      "func_iteration= 31; func_exe_time= 0.053276777267456055; nonfunc_exe_time= 0\n"
     ]
    }
   ],
   "source": [
    "algo_methods.hamming_sweep(org_ckt_ls,obs_ckt_ls,max_iter=1000)"
   ]
  }
 ],
 "metadata": {
  "kernelspec": {
   "display_name": "Python 3",
   "language": "python",
   "name": "python3"
  },
  "language_info": {
   "codemirror_mode": {
    "name": "ipython",
    "version": 3
   },
   "file_extension": ".py",
   "mimetype": "text/x-python",
   "name": "python",
   "nbconvert_exporter": "python",
   "pygments_lexer": "ipython3",
   "version": "3.12.3"
  }
 },
 "nbformat": 4,
 "nbformat_minor": 2
}
