{
 "cells": [
  {
   "cell_type": "code",
   "execution_count": 2,
   "metadata": {},
   "outputs": [],
   "source": [
    "import algo_methods"
   ]
  },
  {
   "cell_type": "code",
   "execution_count": 5,
   "metadata": {},
   "outputs": [],
   "source": [
    "org_ckt_ls = \"/home/mahmudul-hasan/Research/BUET_SAT_SIMULATOR/c432/c432.bench\"\n",
    "key_str = \"10011000111110101001100011111010\""
   ]
  },
  {
   "cell_type": "code",
   "execution_count": null,
   "metadata": {},
   "outputs": [],
   "source": [
    "obs_ckt_ls = \"/Users/mahmudulhasan/Downloads/BUET_SAT_SIMULATOR/c432/c432_sarlock_32k.bench\"\n",
    "algo_methods.sarlock(org_ckt_ls,obs_ckt_ls,key_str)"
   ]
  },
  {
   "cell_type": "code",
   "execution_count": null,
   "metadata": {},
   "outputs": [],
   "source": [
    "obs_ckt_ls = \"/Users/mahmudulhasan/Downloads/BUET_SAT_SIMULATOR/c6288/c6288_rll_32k.bench\"\n",
    "algo_methods.RLL(org_ckt_ls,obs_ckt_ls,key_str)"
   ]
  },
  {
   "cell_type": "code",
   "execution_count": null,
   "metadata": {},
   "outputs": [],
   "source": [
    "obs_ckt_ls = \"src/c6288_antisat_32k.bench\"\n",
    "algo_methods.libar(org_ckt_ls,obs_ckt_ls,key_str,libar_percent=0.6)"
   ]
  },
  {
   "cell_type": "code",
   "execution_count": null,
   "metadata": {},
   "outputs": [],
   "source": [
    "obs_ckt_ls = \"/Users/mahmudulhasan/Downloads/BUET_SAT_SIMULATOR/c432/c432_antisat_32k.bench\"\n",
    "algo_methods.anti_sat(org_ckt_ls,obs_ckt_ls,key_str)"
   ]
  },
  {
   "cell_type": "code",
   "execution_count": null,
   "metadata": {},
   "outputs": [],
   "source": [
    "obs_ckt_ls = \"src/c6288_antisat_32k.bench\"\n",
    "algo_methods.asob(org_ckt_ls,obs_ckt_ls,key_str,no_rll_keybit=6)"
   ]
  },
  {
   "cell_type": "code",
   "execution_count": 1,
   "metadata": {},
   "outputs": [],
   "source": [
    "org_ckt_ls = \"/home/mahmudul-hasan/Research/BUET_SAT_SIMULATOR/bench_ckt/c6288.bench\"\n",
    "obs_ckt_ls = \"/home/mahmudul-hasan/Research/BUET_SAT_SIMULATOR/8bit/c6288_rll.bench\""
   ]
  },
  {
   "cell_type": "code",
   "execution_count": 12,
   "metadata": {},
   "outputs": [],
   "source": [
    "org_ckt_ls = \"/home/mahmudul-hasan/Research/BUET_SAT_SIMULATOR/c432/c432.bench\"\n",
    "obs_ckt_ls = \"/home/mahmudul-hasan/Research/BUET_SAT_SIMULATOR/c432/c432_ttlock_32k.bench\"\n"
   ]
  },
  {
   "cell_type": "code",
   "execution_count": 4,
   "metadata": {},
   "outputs": [
    {
     "name": "stdout",
     "output_type": "stream",
     "text": [
      "============================================= iteration: 0\n",
      "============================================= iteration: 1\n"
     ]
    }
   ],
   "source": [
    "algo_methods.sat(org_ckt_ls,obs_ckt_ls)"
   ]
  },
  {
   "cell_type": "code",
   "execution_count": null,
   "metadata": {},
   "outputs": [],
   "source": [
    "algo_methods.appsat(org_ckt_ls,obs_ckt_ls)"
   ]
  },
  {
   "cell_type": "code",
   "execution_count": null,
   "metadata": {},
   "outputs": [],
   "source": [
    "algo_methods.hamming_sweep(org_ckt_ls,obs_ckt_ls,max_iter=1000)"
   ]
  }
 ],
 "metadata": {
  "kernelspec": {
   "display_name": "Python 3",
   "language": "python",
   "name": "python3"
  },
  "language_info": {
   "codemirror_mode": {
    "name": "ipython",
    "version": 3
   },
   "file_extension": ".py",
   "mimetype": "text/x-python",
   "name": "python",
   "nbconvert_exporter": "python",
   "pygments_lexer": "ipython3",
   "version": "3.12.3"
  }
 },
 "nbformat": 4,
 "nbformat_minor": 2
}
