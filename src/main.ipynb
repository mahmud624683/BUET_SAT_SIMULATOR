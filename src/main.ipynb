{
 "cells": [
  {
   "cell_type": "code",
   "execution_count": 2,
   "metadata": {},
   "outputs": [],
   "source": [
    "import algo_methods"
   ]
  },
  {
   "cell_type": "code",
   "execution_count": 5,
   "metadata": {},
   "outputs": [],
   "source": [
    "org_ckt_ls = \"/home/mahmudul-hasan/Research/BUET_SAT_SIMULATOR/c432/c432.bench\"\n",
    "key_str = \"10011000111110101001100011111010\""
   ]
  },
  {
   "cell_type": "code",
   "execution_count": 3,
   "metadata": {},
   "outputs": [
    {
     "name": "stdout",
     "output_type": "stream",
     "text": [
      "SARLock bench file created\n"
     ]
    }
   ],
   "source": [
    "obs_ckt_ls = \"/Users/mahmudulhasan/Downloads/BUET_SAT_SIMULATOR/c432/c432_sarlock_32k.bench\"\n",
    "algo_methods.sarlock(org_ckt_ls,obs_ckt_ls,key_str)"
   ]
  },
  {
   "cell_type": "code",
   "execution_count": 18,
   "metadata": {},
   "outputs": [
    {
     "name": "stdout",
     "output_type": "stream",
     "text": [
      "RLL bench file created\n"
     ]
    }
   ],
   "source": [
    "obs_ckt_ls = \"/Users/mahmudulhasan/Downloads/BUET_SAT_SIMULATOR/c6288/c6288_rll_32k.bench\"\n",
    "algo_methods.RLL(org_ckt_ls,obs_ckt_ls,key_str)"
   ]
  },
  {
   "cell_type": "code",
   "execution_count": null,
   "metadata": {},
   "outputs": [],
   "source": [
    "obs_ckt_ls = \"src/c6288_antisat_32k.bench\"\n",
    "algo_methods.libar(org_ckt_ls,obs_ckt_ls,key_str,libar_percent=0.6)"
   ]
  },
  {
   "cell_type": "code",
   "execution_count": 26,
   "metadata": {},
   "outputs": [
    {
     "name": "stdout",
     "output_type": "stream",
     "text": [
      "AntiSAT bench file created\n"
     ]
    }
   ],
   "source": [
    "obs_ckt_ls = \"/Users/mahmudulhasan/Downloads/BUET_SAT_SIMULATOR/c432/c432_antisat_32k.bench\"\n",
    "algo_methods.anti_sat(org_ckt_ls,obs_ckt_ls,key_str)"
   ]
  },
  {
   "cell_type": "code",
   "execution_count": 25,
   "metadata": {},
   "outputs": [
    {
     "name": "stdout",
     "output_type": "stream",
     "text": [
      "The key bit should be equal if half splitted. but here your key: 00111110101001100011111010 is not.\n"
     ]
    }
   ],
   "source": [
    "obs_ckt_ls = \"src/c6288_antisat_32k.bench\"\n",
    "algo_methods.asob(org_ckt_ls,obs_ckt_ls,key_str,no_rll_keybit=6)"
   ]
  },
  {
   "cell_type": "code",
   "execution_count": 7,
   "metadata": {},
   "outputs": [],
   "source": [
    "obs_ckt_ls = \"/home/mahmudul-hasan/Research/BUET_SAT_SIMULATOR/c432/c432_ttlock_32k.bench\""
   ]
  },
  {
   "cell_type": "code",
   "execution_count": 31,
   "metadata": {},
   "outputs": [
    {
     "name": "stdout",
     "output_type": "stream",
     "text": [
      "============================================= iteration: 0\n",
      "============================================= iteration: 1\n",
      "============================================= iteration: 2\n",
      "============================================= iteration: 3\n",
      "================ keyFind SAT call ================\n",
      "---------------- looking for key (Last SAT Call) ------------\n",
      "key= 11111101010101101110111111001110\n",
      "func_iteration= 3; func_exe_time= 0.006542205810546875; nonfunc_exe_time= 0\n"
     ]
    }
   ],
   "source": [
    "algo_methods.sat(org_ckt_ls,obs_ckt_ls)"
   ]
  },
  {
   "cell_type": "code",
   "execution_count": 20,
   "metadata": {},
   "outputs": [
    {
     "name": "stdout",
     "output_type": "stream",
     "text": [
      "============================================= iteration: 0\n",
      "============================================= iteration: 1\n",
      "============================================= iteration: 2\n",
      "============================================= iteration: 3\n",
      "============================================= iteration: 4\n",
      "================ keyFind SAT call ================\n",
      "---------------- looking for key (Last SAT Call) ------------\n",
      "key= 11011111111111111111110111000000\n",
      "func_iteration= 4; func_exe_time= 0.01721048355102539; nonfunc_exe_time= 0\n"
     ]
    }
   ],
   "source": [
    "algo_methods.appsat(org_ckt_ls,obs_ckt_ls)"
   ]
  },
  {
   "cell_type": "code",
   "execution_count": 21,
   "metadata": {},
   "outputs": [
    {
     "name": "stdout",
     "output_type": "stream",
     "text": [
      "########## looking for DIPs (Iterative SAT Calls)  ##########\n",
      "============================================= iteration: 0\n",
      "============================================= iteration: 0\n",
      "============================================= iteration: 0\n",
      "============================================= iteration: 0\n",
      "============================================= iteration: 0\n",
      "============================================= iteration: 0\n",
      "============================================= iteration: 0\n",
      "============================================= iteration: 1\n",
      "============================================= iteration: 2\n",
      "============================================= iteration: 3\n",
      "============================================= iteration: 4\n",
      "============================================= iteration: 5\n",
      "================ keyFind SAT call ================\n",
      "---------------- looking for key (Last SAT Call) ------------\n",
      "key= 11111101011111111111111111001000\n",
      "func_iteration= 5; func_exe_time= 0.0239715576171875; nonfunc_exe_time= 0\n"
     ]
    }
   ],
   "source": [
    "algo_methods.hamming_sweep(org_ckt_ls,obs_ckt_ls,max_iter=1000)"
   ]
  }
 ],
 "metadata": {
  "kernelspec": {
   "display_name": "Python 3",
   "language": "python",
   "name": "python3"
  },
  "language_info": {
   "codemirror_mode": {
    "name": "ipython",
    "version": 3
   },
   "file_extension": ".py",
   "mimetype": "text/x-python",
   "name": "python",
   "nbconvert_exporter": "python",
   "pygments_lexer": "ipython3",
   "version": "3.12.3"
  }
 },
 "nbformat": 4,
 "nbformat_minor": 2
}
